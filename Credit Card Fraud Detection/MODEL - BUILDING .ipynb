{
 "cells": [
  {
   "cell_type": "markdown",
   "metadata": {},
   "source": [
    "# STEP 5:- MODEL - BUILDING ( Random Forest)"
   ]
  },
  {
   "cell_type": "code",
   "execution_count": null,
   "metadata": {},
   "outputs": [],
   "source": [
    "#random forest\n",
    "from sklearn.ensemble import RandomForestClassifier\n",
    "rf=RandomForestClassifier(n_estimators=10,random_state=0,n_jobs=-1)\n",
    "rf.fit(xtrain,ytrain)\n",
    "y_predict=rf.predict(xtest)\n",
    "y_predict"
   ]
  },
  {
   "cell_type": "code",
   "execution_count": null,
   "metadata": {},
   "outputs": [],
   "source": [
    "# saving using joblib\n",
    "import pickle \n",
    "pickle.dump(rf,open('modell.pkl','wb'))"
   ]
  },
  {
   "cell_type": "markdown",
   "metadata": {},
   "source": [
    "## Calculating accruracy using (ACCURACY SCORE) And (CONFUSION MATRIX)"
   ]
  },
  {
   "cell_type": "code",
   "execution_count": null,
   "metadata": {},
   "outputs": [],
   "source": [
    "# ACCURACY\n",
    "from sklearn.metrics import accuracy_score\n",
    "accuracy_score(ytest,y_predict)"
   ]
  },
  {
   "cell_type": "code",
   "execution_count": null,
   "metadata": {},
   "outputs": [],
   "source": [
    "# CONFUSION MATRIX \n",
    "cm = confusion_matrix(ytest, y_predict)\n",
    "print(\"confusion Matrix : \\n\", cm)"
   ]
  },
  {
   "cell_type": "code",
   "execution_count": null,
   "metadata": {},
   "outputs": [],
   "source": [
    "# confusion matrix accruracy\n",
    "Accuracy_Model = ((cm[0][0] + cm[1][1]) / cm.sum()) *100\n",
    "print(\"Accuracy_Decison    : \", Accuracy_Model)"
   ]
  },
  {
   "cell_type": "markdown",
   "metadata": {},
   "source": [
    "###  We got accuracy of 99.94% - so we are using random forest¶\n",
    "-----------------------------------------------------\n",
    "# graphically showing our ACTUAL and PREDICT results\n",
    "\n",
    "\n",
    "### LINES SHOW BOTH ACTUAL AND TEST"
   ]
  },
  {
   "cell_type": "code",
   "execution_count": null,
   "metadata": {},
   "outputs": [],
   "source": [
    "fig=plt.figure()\n",
    "axis1=fig.add_axes([0.1,0.1,0.9,0.9])# main axis (left,bottom,width,height)\n",
    "axis2=fig.add_axes([0.2,0.5,0.4,0.3]) #inside axis\n",
    "\n",
    "#larger figure\n",
    "axis1.plot(xtest[:,28],ytest,'y')\n",
    "axis1.set_xlabel('AMOUNT')\n",
    "axis1.set_ylabel('CLASS')\n",
    "axis1.set_title(' ACTUAL')\n",
    "\n",
    "#small figure\n",
    "axis2.plot(xtest[:,28],y_predict,'g')\n",
    "axis2.set_xlabel('AMOUNT')\n",
    "axis2.set_ylabel('CLASS')\n",
    "axis2.set_title(' PREDICTED')"
   ]
  },
  {
   "cell_type": "markdown",
   "metadata": {},
   "source": [
    "## SCATTER PLOT OF PREDICT"
   ]
  },
  {
   "cell_type": "code",
   "execution_count": null,
   "metadata": {},
   "outputs": [],
   "source": [
    "plt.scatter(xtest[:,28],y_predict,label=\"predict\",color=\"green\")"
   ]
  },
  {
   "cell_type": "markdown",
   "metadata": {},
   "source": [
    "## SCATTER PLOT OF ACTUAL"
   ]
  },
  {
   "cell_type": "code",
   "execution_count": null,
   "metadata": {},
   "outputs": [],
   "source": [
    "plt.scatter(xtest[:,28],ytest,label=\"actual\",color=\"blue\")"
   ]
  },
  {
   "cell_type": "code",
   "execution_count": null,
   "metadata": {},
   "outputs": [],
   "source": []
  },
  {
   "cell_type": "code",
   "execution_count": null,
   "metadata": {},
   "outputs": [],
   "source": [
    "rf.predict_([[1,3,4,3,4,3,3,3,3,3,4,4,4,4,4,4,4,5,6,5,5,5,5,5,5,5,5,1,5]])"
   ]
  },
  {
   "cell_type": "code",
   "execution_count": null,
   "metadata": {},
   "outputs": [],
   "source": []
  },
  {
   "cell_type": "code",
   "execution_count": null,
   "metadata": {},
   "outputs": [],
   "source": []
  }
 ],
 "metadata": {
  "kernelspec": {
   "display_name": "Python 3",
   "language": "python",
   "name": "python3"
  },
  "language_info": {
   "codemirror_mode": {
    "name": "ipython",
    "version": 3
   },
   "file_extension": ".py",
   "mimetype": "text/x-python",
   "name": "python",
   "nbconvert_exporter": "python",
   "pygments_lexer": "ipython3",
   "version": "3.7.3"
  }
 },
 "nbformat": 4,
 "nbformat_minor": 2
}
